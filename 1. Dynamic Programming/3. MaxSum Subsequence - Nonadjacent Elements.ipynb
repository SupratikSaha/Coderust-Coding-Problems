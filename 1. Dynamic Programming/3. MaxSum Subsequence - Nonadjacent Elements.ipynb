{
 "cells": [
  {
   "cell_type": "markdown",
   "metadata": {},
   "source": [
    "Problem Statement. <br>\n",
    "\n",
    "Find an efficient algorithm to find the maximum sum of a subsequence in an array so that no consecutive elements are part of this subsequence. <br>\n",
    "\n",
    "Consider the following examples: <br>\n",
    "\n",
    "    The max sum of a subsequence with no consecutive elements in the example below is 25:\n",
    "    1,6,10,14,-5,-1,2,-1,3\n",
    "    The max sum of a subsequence with no consecutive elements in the example below is 9:\n",
    "    1,-1,6,-4,2,2"
   ]
  },
  {
   "cell_type": "markdown",
   "metadata": {},
   "source": [
    "# Bottom Up DP - O(N) runtime, O(1) space"
   ]
  },
  {
   "cell_type": "code",
   "execution_count": 1,
   "metadata": {},
   "outputs": [],
   "source": [
    "def find_max_sum_nonadjacent(a):\n",
    "    n = len(a)\n",
    "\n",
    "    if n == 0:\n",
    "        return 0\n",
    "    elif n == 1:\n",
    "        return a[0]\n",
    "    elif n == 2:\n",
    "        return max(a[0], a[1])\n",
    "\n",
    "    s1, s2 = a[0], a[1]\n",
    "    for i in range(2, len(a)):\n",
    "        s2, s1 = max(a[i], s2, a[i] + s1), s2\n",
    "    \n",
    "    return s2"
   ]
  },
  {
   "cell_type": "code",
   "execution_count": 2,
   "metadata": {},
   "outputs": [
    {
     "data": {
      "text/plain": [
       "25"
      ]
     },
     "execution_count": 2,
     "metadata": {},
     "output_type": "execute_result"
    }
   ],
   "source": [
    "find_max_sum_nonadjacent([1,6,10,14,-5,-1,2,-1,3])"
   ]
  }
 ],
 "metadata": {
  "kernelspec": {
   "display_name": "Python 3",
   "language": "python",
   "name": "python3"
  },
  "language_info": {
   "codemirror_mode": {
    "name": "ipython",
    "version": 3
   },
   "file_extension": ".py",
   "mimetype": "text/x-python",
   "name": "python",
   "nbconvert_exporter": "python",
   "pygments_lexer": "ipython3",
   "version": "3.7.3"
  }
 },
 "nbformat": 4,
 "nbformat_minor": 2
}
