{
 "cells": [
  {
   "cell_type": "markdown",
   "metadata": {},
   "source": [
    "    Problem Statement\n",
    "\n",
    "    Imagine a game where a player can score 1,2 or 4 runs. Given a score, n, find the total number of ways to score n runs.\n",
    "\n",
    "    Example 1:\n",
    "    Input: n = 5\n",
    "    Result = 10"
   ]
  },
  {
   "cell_type": "markdown",
   "metadata": {},
   "source": [
    "# Top Down DP with Memoization - O(N) runtime, O(N) space"
   ]
  },
  {
   "cell_type": "code",
   "execution_count": 1,
   "metadata": {},
   "outputs": [],
   "source": [
    "def scoring_options(n):\n",
    "    if n <= 0 :\n",
    "        return 0\n",
    " \n",
    "    result = [-1] * (n + 1)\n",
    "    result[0] = 1\n",
    " \n",
    "    scoring_options_rec(n, result);\n",
    " \n",
    "    return result[n]\n",
    " \n",
    "def scoring_options_rec(n, result):\n",
    "    if n < 0:\n",
    "        return 0\n",
    " \n",
    "    if result[n] > 0:\n",
    "        return result[n]\n",
    "    \n",
    "    # Memoize\n",
    "    result[n] = scoring_options_rec(n - 1, result) + \\\n",
    "                            scoring_options_rec(n - 2, result) + \\\n",
    "                            scoring_options_rec(n - 4, result)\n",
    " \n",
    "    return result[n]"
   ]
  },
  {
   "cell_type": "markdown",
   "metadata": {},
   "source": [
    "# Space Optimized Bottom Up DP - O(N) runtime, O(1) space"
   ]
  },
  {
   "cell_type": "code",
   "execution_count": 3,
   "metadata": {},
   "outputs": [],
   "source": [
    "def scoring_options(n):\n",
    "    if n <= 0:\n",
    "        return 0\n",
    " \n",
    "    #Max score is 4. Hence we need to save \n",
    "    #last 4 ways to calculate the number of ways\n",
    "    #for a given n\n",
    "    #save the base case on last index of the vector\n",
    "    result = [0, 0, 0, 1]\n",
    " \n",
    "    for i in range(1, n + 1):\n",
    "        current_sum = result[3] + result[2] + result[0]\n",
    "        \n",
    "        #slide left all the results in each iteration\n",
    "        #result for current i will be saved at last index\n",
    "        result[0] = result[1]\n",
    "        result[1] = result[2]\n",
    "        result[2] = result[3]\n",
    "        result[3] = current_sum\n",
    " \n",
    "    return result[3]"
   ]
  },
  {
   "cell_type": "code",
   "execution_count": 4,
   "metadata": {},
   "outputs": [
    {
     "data": {
      "text/plain": [
       "10"
      ]
     },
     "execution_count": 4,
     "metadata": {},
     "output_type": "execute_result"
    }
   ],
   "source": [
    "scoring_options(5)"
   ]
  }
 ],
 "metadata": {
  "kernelspec": {
   "display_name": "Python 3",
   "language": "python",
   "name": "python3"
  },
  "language_info": {
   "codemirror_mode": {
    "name": "ipython",
    "version": 3
   },
   "file_extension": ".py",
   "mimetype": "text/x-python",
   "name": "python",
   "nbconvert_exporter": "python",
   "pygments_lexer": "ipython3",
   "version": "3.7.3"
  }
 },
 "nbformat": 4,
 "nbformat_minor": 2
}
