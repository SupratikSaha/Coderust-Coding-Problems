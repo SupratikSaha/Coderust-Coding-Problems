{
 "cells": [
  {
   "cell_type": "markdown",
   "metadata": {},
   "source": [
    "Problem Statement. <br/>\n",
    "\n",
    "Given an array, find the contiguous subarray with the largest sum. <br/>\n",
    "\n",
    "Example 1: <br/>\n",
    "Input: lst = [-4, 2, -5, 1, 2, 3, 6, -5, 1] <br/>\n",
    "Result = 12"
   ]
  },
  {
   "cell_type": "markdown",
   "metadata": {},
   "source": [
    "# Bottom Up DP - O(N) runtime, O(1) space"
   ]
  },
  {
   "cell_type": "code",
   "execution_count": 2,
   "metadata": {},
   "outputs": [],
   "source": [
    "def find_max_sum_sub_array(A):\n",
    "    if not A: return 0\n",
    "\n",
    "    maxSum, currSum = float('-inf'), 0\n",
    "\n",
    "    for num in A:\n",
    "        currSum = currSum + num if currSum + num > num else num\n",
    "        maxSum = max(maxSum, currSum)\n",
    "        \n",
    "    return maxSum"
   ]
  },
  {
   "cell_type": "code",
   "execution_count": 3,
   "metadata": {},
   "outputs": [
    {
     "data": {
      "text/plain": [
       "12"
      ]
     },
     "execution_count": 3,
     "metadata": {},
     "output_type": "execute_result"
    }
   ],
   "source": [
    "find_max_sum_sub_array( [-4, 2, -5, 1, 2, 3, 6, -5, 1] )"
   ]
  }
 ],
 "metadata": {
  "kernelspec": {
   "display_name": "Python 3",
   "language": "python",
   "name": "python3"
  },
  "language_info": {
   "codemirror_mode": {
    "name": "ipython",
    "version": 3
   },
   "file_extension": ".py",
   "mimetype": "text/x-python",
   "name": "python",
   "nbconvert_exporter": "python",
   "pygments_lexer": "ipython3",
   "version": "3.7.3"
  }
 },
 "nbformat": 4,
 "nbformat_minor": 2
}
